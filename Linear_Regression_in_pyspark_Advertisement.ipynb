{
  "nbformat": 4,
  "nbformat_minor": 0,
  "metadata": {
    "colab": {
      "name": "Linear Regression in pyspark-Advertisement.ipynb",
      "provenance": [],
      "collapsed_sections": []
    },
    "kernelspec": {
      "name": "python3",
      "display_name": "Python 3"
    },
    "language_info": {
      "name": "python"
    }
  },
  "cells": [
    {
      "cell_type": "markdown",
      "source": [
        "**Create entry points to spark**"
      ],
      "metadata": {
        "id": "k0JXve5EIpqP"
      }
    },
    {
      "cell_type": "code",
      "source": [
        "!pip install pyspark\n",
        "import pyspark"
      ],
      "metadata": {
        "colab": {
          "base_uri": "https://localhost:8080/"
        },
        "id": "iaReDyX3ItF5",
        "outputId": "343b0cad-1693-4ea5-bc84-56473582e937"
      },
      "execution_count": 1,
      "outputs": [
        {
          "output_type": "stream",
          "name": "stdout",
          "text": [
            "Looking in indexes: https://pypi.org/simple, https://us-python.pkg.dev/colab-wheels/public/simple/\n",
            "Collecting pyspark\n",
            "  Downloading pyspark-3.3.0.tar.gz (281.3 MB)\n",
            "\u001b[K     |████████████████████████████████| 281.3 MB 45 kB/s \n",
            "\u001b[?25hCollecting py4j==0.10.9.5\n",
            "  Downloading py4j-0.10.9.5-py2.py3-none-any.whl (199 kB)\n",
            "\u001b[K     |████████████████████████████████| 199 kB 53.8 MB/s \n",
            "\u001b[?25hBuilding wheels for collected packages: pyspark\n",
            "  Building wheel for pyspark (setup.py) ... \u001b[?25l\u001b[?25hdone\n",
            "  Created wheel for pyspark: filename=pyspark-3.3.0-py2.py3-none-any.whl size=281764026 sha256=8cea8d5573172b6b912f6a5e740721172e5e037a241cb98b4355979f15329a49\n",
            "  Stored in directory: /root/.cache/pip/wheels/7a/8e/1b/f73a52650d2e5f337708d9f6a1750d451a7349a867f928b885\n",
            "Successfully built pyspark\n",
            "Installing collected packages: py4j, pyspark\n",
            "Successfully installed py4j-0.10.9.5 pyspark-3.3.0\n"
          ]
        }
      ]
    },
    {
      "cell_type": "code",
      "source": [
        "from pyspark.sql import SparkSession"
      ],
      "metadata": {
        "id": "UAFtOCwfIxsY"
      },
      "execution_count": 2,
      "outputs": []
    },
    {
      "cell_type": "code",
      "source": [
        "spark = SparkSession.builder.appName('Advertising').getOrCreate()"
      ],
      "metadata": {
        "id": "XJMVE5ZhI3cx"
      },
      "execution_count": 3,
      "outputs": []
    },
    {
      "cell_type": "markdown",
      "source": [
        "# Linear regression without cross-valiation"
      ],
      "metadata": {
        "id": "QZQgRc4IJUjf"
      }
    },
    {
      "cell_type": "markdown",
      "source": [
        "**importing data**"
      ],
      "metadata": {
        "id": "XOcS79dMJa0s"
      }
    },
    {
      "cell_type": "code",
      "source": [
        "from google.colab import drive\n",
        "drive.mount('/content/drive')"
      ],
      "metadata": {
        "colab": {
          "base_uri": "https://localhost:8080/"
        },
        "id": "VqNhTSxgJJWV",
        "outputId": "eb05396f-718e-40c1-b3ab-29f85c7284df"
      },
      "execution_count": 4,
      "outputs": [
        {
          "output_type": "stream",
          "name": "stdout",
          "text": [
            "Mounted at /content/drive\n"
          ]
        }
      ]
    },
    {
      "cell_type": "code",
      "source": [
        "ad = spark.read.csv('/content/drive/MyDrive/0.MKCE/Datasets/Advertising.csv', \n",
        "                    header=True, \n",
        "                    inferSchema=True)\n",
        "ad.show(5)"
      ],
      "metadata": {
        "colab": {
          "base_uri": "https://localhost:8080/"
        },
        "id": "cEpRFb5NJhY7",
        "outputId": "69a23c29-be93-4a82-8b86-daa5b8fc66bb"
      },
      "execution_count": 5,
      "outputs": [
        {
          "output_type": "stream",
          "name": "stdout",
          "text": [
            "+---+-----+-----+---------+-----+\n",
            "|_c0|   TV|radio|newspaper|sales|\n",
            "+---+-----+-----+---------+-----+\n",
            "|  1|230.1| 37.8|     69.2| 22.1|\n",
            "|  2| 44.5| 39.3|     45.1| 10.4|\n",
            "|  3| 17.2| 45.9|     69.3|  9.3|\n",
            "|  4|151.5| 41.3|     58.5| 18.5|\n",
            "|  5|180.8| 10.8|     58.4| 12.9|\n",
            "+---+-----+-----+---------+-----+\n",
            "only showing top 5 rows\n",
            "\n"
          ]
        }
      ]
    },
    {
      "cell_type": "markdown",
      "source": [
        "# Transform data structure"
      ],
      "metadata": {
        "id": "8yfXpCJcJz5h"
      }
    },
    {
      "cell_type": "code",
      "source": [
        "from pyspark.ml.linalg import Vectors\n",
        "\n",
        "ad_df = ad.rdd.map(lambda x: [Vectors.dense(x[0:3]), \n",
        "                              x[-1]]).toDF(['features', \n",
        "                                            'label'])\n",
        "\n",
        "ad_df.show(5)"
      ],
      "metadata": {
        "colab": {
          "base_uri": "https://localhost:8080/"
        },
        "id": "BDOKJ04qKI0a",
        "outputId": "293d8bea-c8e3-47dd-a9a4-ccad7235cab5"
      },
      "execution_count": 6,
      "outputs": [
        {
          "output_type": "stream",
          "name": "stdout",
          "text": [
            "+----------------+-----+\n",
            "|        features|label|\n",
            "+----------------+-----+\n",
            "|[1.0,230.1,37.8]| 22.1|\n",
            "| [2.0,44.5,39.3]| 10.4|\n",
            "| [3.0,17.2,45.9]|  9.3|\n",
            "|[4.0,151.5,41.3]| 18.5|\n",
            "|[5.0,180.8,10.8]| 12.9|\n",
            "+----------------+-----+\n",
            "only showing top 5 rows\n",
            "\n"
          ]
        }
      ]
    },
    {
      "cell_type": "markdown",
      "source": [
        "# Build linear regression model"
      ],
      "metadata": {
        "id": "F9l2_iPkKQHh"
      }
    },
    {
      "cell_type": "code",
      "source": [
        "from pyspark.ml.regression import LinearRegression\n",
        "\n",
        "lr = LinearRegression(featuresCol = 'features', \n",
        "                      labelCol = 'label')"
      ],
      "metadata": {
        "id": "YZz0UJyrJrJz"
      },
      "execution_count": 7,
      "outputs": []
    },
    {
      "cell_type": "code",
      "source": [
        "lr_model = lr.fit(ad_df)"
      ],
      "metadata": {
        "id": "_HTAt6XzKU_L"
      },
      "execution_count": 8,
      "outputs": []
    },
    {
      "cell_type": "code",
      "source": [
        "pred = lr_model.transform(ad_df)\n",
        "pred.show(5)"
      ],
      "metadata": {
        "colab": {
          "base_uri": "https://localhost:8080/"
        },
        "id": "hJymiO4DKYRe",
        "outputId": "d79e6a1e-6b1f-46ef-9be8-588f8d0abbe6"
      },
      "execution_count": 9,
      "outputs": [
        {
          "output_type": "stream",
          "name": "stdout",
          "text": [
            "+----------------+-----+------------------+\n",
            "|        features|label|        prediction|\n",
            "+----------------+-----+------------------+\n",
            "|[1.0,230.1,37.8]| 22.1| 20.60502920567592|\n",
            "| [2.0,44.5,39.3]| 10.4|12.392493270268307|\n",
            "| [3.0,17.2,45.9]|  9.3|12.381882445789143|\n",
            "|[4.0,151.5,41.3]| 18.5|  17.6636423673972|\n",
            "|[5.0,180.8,10.8]| 12.9|13.277141826096058|\n",
            "+----------------+-----+------------------+\n",
            "only showing top 5 rows\n",
            "\n"
          ]
        }
      ]
    },
    {
      "cell_type": "code",
      "source": [
        "from pyspark.ml.evaluation import RegressionEvaluator \n",
        "\n",
        "evaluator = RegressionEvaluator(predictionCol='prediction', \n",
        "                                labelCol='label')\n",
        "\n",
        "evaluator.setMetricName('r2').evaluate(pred)"
      ],
      "metadata": {
        "colab": {
          "base_uri": "https://localhost:8080/"
        },
        "id": "QUHHw65hKZ51",
        "outputId": "3b9f11d9-f82a-4753-806a-2f8c971e96ab"
      },
      "execution_count": 10,
      "outputs": [
        {
          "output_type": "execute_result",
          "data": {
            "text/plain": [
              "0.8972276882820611"
            ]
          },
          "metadata": {},
          "execution_count": 10
        }
      ]
    },
    {
      "cell_type": "markdown",
      "source": [
        "# Linear regression with cross-validation"
      ],
      "metadata": {
        "id": "kNstXU68LIwm"
      }
    },
    {
      "cell_type": "markdown",
      "source": [
        "# Training and test datasets"
      ],
      "metadata": {
        "id": "oEL43L0FLacq"
      }
    },
    {
      "cell_type": "code",
      "source": [
        "training, test = ad_df.randomSplit([0.8, 0.2], \n",
        "                                   seed=123)"
      ],
      "metadata": {
        "id": "a2Dqs-mBKcoa"
      },
      "execution_count": 11,
      "outputs": []
    },
    {
      "cell_type": "markdown",
      "source": [
        "Build cross-validation model"
      ],
      "metadata": {
        "id": "60XMnctcLfzT"
      }
    },
    {
      "cell_type": "code",
      "source": [
        "##=====build cross valiation model======\n",
        "\n",
        "# estimator\n",
        "lr = LinearRegression(featuresCol = 'features', \n",
        "                      labelCol = 'label')\n",
        "\n",
        "# parameter grid\n",
        "from pyspark.ml.tuning import ParamGridBuilder\n",
        "\n",
        "param_grid = ParamGridBuilder().\\\n",
        "    addGrid(lr.regParam, [0, 0.5, 1]).\\\n",
        "    addGrid(lr.elasticNetParam, [0, 0.5, 1]).\\\n",
        "    build()\n",
        "    \n",
        "# evaluator\n",
        "evaluator = RegressionEvaluator(predictionCol='prediction',\n",
        "                                labelCol='label', \n",
        "                                metricName='r2')\n",
        "\n",
        "# cross-validation model\n",
        "from pyspark.ml.tuning import CrossValidator\n",
        "\n",
        "cv = CrossValidator(estimator=lr, \n",
        "                    estimatorParamMaps=param_grid,\n",
        "                    evaluator=evaluator, \n",
        "                    numFolds=4)"
      ],
      "metadata": {
        "id": "_ijff4fkLdj5"
      },
      "execution_count": 12,
      "outputs": []
    },
    {
      "cell_type": "markdown",
      "source": [
        "Fit cross-validation model"
      ],
      "metadata": {
        "id": "IioKD5DHMMPa"
      }
    },
    {
      "cell_type": "code",
      "source": [
        "cv_model = cv.fit(training)"
      ],
      "metadata": {
        "id": "y7MXwkHNMJWI"
      },
      "execution_count": 13,
      "outputs": []
    },
    {
      "cell_type": "markdown",
      "source": [
        "# Prediction"
      ],
      "metadata": {
        "id": "Q_aHOw2zMT9R"
      }
    },
    {
      "cell_type": "code",
      "source": [
        "pred_training_cv = cv_model.transform(training)\n",
        "\n",
        "pred_test_cv = cv_model.transform(test)\n",
        "\n"
      ],
      "metadata": {
        "id": "1z8wo5L4MLe8"
      },
      "execution_count": 14,
      "outputs": []
    },
    {
      "cell_type": "markdown",
      "source": [
        "# Evaluation"
      ],
      "metadata": {
        "id": "ekC1b1kPMbNV"
      }
    },
    {
      "cell_type": "code",
      "source": [
        "evaluator.setMetricName('r2').evaluate(pred_training_cv)"
      ],
      "metadata": {
        "colab": {
          "base_uri": "https://localhost:8080/"
        },
        "id": "C3hkP3FJMZOD",
        "outputId": "4c538ef4-6e1b-43bf-eb35-7d6f33fc522c"
      },
      "execution_count": 15,
      "outputs": [
        {
          "output_type": "execute_result",
          "data": {
            "text/plain": [
              "0.8840866981253278"
            ]
          },
          "metadata": {},
          "execution_count": 15
        }
      ]
    },
    {
      "cell_type": "code",
      "source": [
        "evaluator.setMetricName('r2').evaluate(pred_test_cv)\n"
      ],
      "metadata": {
        "colab": {
          "base_uri": "https://localhost:8080/"
        },
        "id": "y4dn_f3oMzSJ",
        "outputId": "689132f3-5539-4031-dac8-2843cd3cdd34"
      },
      "execution_count": 16,
      "outputs": [
        {
          "output_type": "execute_result",
          "data": {
            "text/plain": [
              "0.9067601533925276"
            ]
          },
          "metadata": {},
          "execution_count": 16
        }
      ]
    },
    {
      "cell_type": "markdown",
      "source": [
        "# Intercept and coefficients"
      ],
      "metadata": {
        "id": "A2pdjjvCM4QS"
      }
    },
    {
      "cell_type": "code",
      "source": [
        "print('Intercept: ', cv_model.bestModel.intercept, \"\\n\",\n",
        "     'coefficients: ', cv_model.bestModel.coefficients)"
      ],
      "metadata": {
        "colab": {
          "base_uri": "https://localhost:8080/"
        },
        "id": "c093p7NiM2M_",
        "outputId": "c15a2f7e-73d1-40ed-c40e-64fc0bbefb04"
      },
      "execution_count": 17,
      "outputs": [
        {
          "output_type": "stream",
          "name": "stdout",
          "text": [
            "Intercept:  4.0638796100866585 \n",
            " coefficients:  [-0.0021775996416919206,0.042199302330198106,0.16825850988073168]\n"
          ]
        }
      ]
    },
    {
      "cell_type": "markdown",
      "source": [
        "# Get parameter values from the best model"
      ],
      "metadata": {
        "id": "inxddJgbN8jN"
      }
    },
    {
      "cell_type": "markdown",
      "source": [
        "**Parameters can be extracted by calling the java property.**"
      ],
      "metadata": {
        "id": "9jX96zJ0OAOX"
      }
    },
    {
      "cell_type": "code",
      "source": [
        "print('best regParam: ' + str(cv_model.bestModel._java_obj.getRegParam()) + \"\\n\" +\n",
        "     'best ElasticNetParam:' + str(cv_model.bestModel._java_obj.getElasticNetParam()))"
      ],
      "metadata": {
        "colab": {
          "base_uri": "https://localhost:8080/"
        },
        "id": "sW8_U9jQN5_l",
        "outputId": "d00e0695-b17c-411b-cf38-a76f60e431f9"
      },
      "execution_count": 18,
      "outputs": [
        {
          "output_type": "stream",
          "name": "stdout",
          "text": [
            "best regParam: 0.5\n",
            "best ElasticNetParam:0.0\n"
          ]
        }
      ]
    }
  ]
}